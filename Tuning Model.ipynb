{
 "cells": [
  {
   "cell_type": "markdown",
   "metadata": {},
   "source": [
    "# Predict the area burned by forest fire in Portugal's North East Region"
   ]
  },
  {
   "cell_type": "markdown",
   "metadata": {},
   "source": [
    "## Fetching Data"
   ]
  },
  {
   "cell_type": "code",
   "execution_count": 1,
   "metadata": {},
   "outputs": [
    {
     "data": {
      "text/html": [
       "<div>\n",
       "<style scoped>\n",
       "    .dataframe tbody tr th:only-of-type {\n",
       "        vertical-align: middle;\n",
       "    }\n",
       "\n",
       "    .dataframe tbody tr th {\n",
       "        vertical-align: top;\n",
       "    }\n",
       "\n",
       "    .dataframe thead th {\n",
       "        text-align: right;\n",
       "    }\n",
       "</style>\n",
       "<table border=\"1\" class=\"dataframe\">\n",
       "  <thead>\n",
       "    <tr style=\"text-align: right;\">\n",
       "      <th></th>\n",
       "      <th>X</th>\n",
       "      <th>Y</th>\n",
       "      <th>month</th>\n",
       "      <th>day</th>\n",
       "      <th>FFMC</th>\n",
       "      <th>DMC</th>\n",
       "      <th>DC</th>\n",
       "      <th>ISI</th>\n",
       "      <th>temp</th>\n",
       "      <th>RH</th>\n",
       "      <th>wind</th>\n",
       "      <th>rain</th>\n",
       "      <th>area</th>\n",
       "    </tr>\n",
       "  </thead>\n",
       "  <tbody>\n",
       "    <tr>\n",
       "      <th>100</th>\n",
       "      <td>3</td>\n",
       "      <td>4</td>\n",
       "      <td>aug</td>\n",
       "      <td>sun</td>\n",
       "      <td>91.4</td>\n",
       "      <td>142.4</td>\n",
       "      <td>601.4</td>\n",
       "      <td>10.6</td>\n",
       "      <td>19.8</td>\n",
       "      <td>39</td>\n",
       "      <td>5.4</td>\n",
       "      <td>0.0</td>\n",
       "      <td>0.00</td>\n",
       "    </tr>\n",
       "    <tr>\n",
       "      <th>101</th>\n",
       "      <td>3</td>\n",
       "      <td>4</td>\n",
       "      <td>aug</td>\n",
       "      <td>tue</td>\n",
       "      <td>88.8</td>\n",
       "      <td>147.3</td>\n",
       "      <td>614.5</td>\n",
       "      <td>9.0</td>\n",
       "      <td>14.4</td>\n",
       "      <td>66</td>\n",
       "      <td>5.4</td>\n",
       "      <td>0.0</td>\n",
       "      <td>0.00</td>\n",
       "    </tr>\n",
       "    <tr>\n",
       "      <th>102</th>\n",
       "      <td>2</td>\n",
       "      <td>4</td>\n",
       "      <td>aug</td>\n",
       "      <td>tue</td>\n",
       "      <td>94.8</td>\n",
       "      <td>108.3</td>\n",
       "      <td>647.1</td>\n",
       "      <td>17.0</td>\n",
       "      <td>20.1</td>\n",
       "      <td>40</td>\n",
       "      <td>4.0</td>\n",
       "      <td>0.0</td>\n",
       "      <td>0.00</td>\n",
       "    </tr>\n",
       "    <tr>\n",
       "      <th>103</th>\n",
       "      <td>2</td>\n",
       "      <td>4</td>\n",
       "      <td>sep</td>\n",
       "      <td>sat</td>\n",
       "      <td>92.5</td>\n",
       "      <td>121.1</td>\n",
       "      <td>674.4</td>\n",
       "      <td>8.6</td>\n",
       "      <td>24.1</td>\n",
       "      <td>29</td>\n",
       "      <td>4.5</td>\n",
       "      <td>0.0</td>\n",
       "      <td>0.00</td>\n",
       "    </tr>\n",
       "    <tr>\n",
       "      <th>104</th>\n",
       "      <td>2</td>\n",
       "      <td>4</td>\n",
       "      <td>jan</td>\n",
       "      <td>sat</td>\n",
       "      <td>82.1</td>\n",
       "      <td>3.7</td>\n",
       "      <td>9.3</td>\n",
       "      <td>2.9</td>\n",
       "      <td>5.3</td>\n",
       "      <td>78</td>\n",
       "      <td>3.1</td>\n",
       "      <td>0.0</td>\n",
       "      <td>0.00</td>\n",
       "    </tr>\n",
       "    <tr>\n",
       "      <th>105</th>\n",
       "      <td>4</td>\n",
       "      <td>5</td>\n",
       "      <td>mar</td>\n",
       "      <td>fri</td>\n",
       "      <td>85.9</td>\n",
       "      <td>19.5</td>\n",
       "      <td>57.3</td>\n",
       "      <td>2.8</td>\n",
       "      <td>12.7</td>\n",
       "      <td>52</td>\n",
       "      <td>6.3</td>\n",
       "      <td>0.0</td>\n",
       "      <td>0.00</td>\n",
       "    </tr>\n",
       "    <tr>\n",
       "      <th>106</th>\n",
       "      <td>4</td>\n",
       "      <td>5</td>\n",
       "      <td>mar</td>\n",
       "      <td>thu</td>\n",
       "      <td>91.4</td>\n",
       "      <td>30.7</td>\n",
       "      <td>74.3</td>\n",
       "      <td>7.5</td>\n",
       "      <td>18.2</td>\n",
       "      <td>29</td>\n",
       "      <td>3.1</td>\n",
       "      <td>0.0</td>\n",
       "      <td>0.00</td>\n",
       "    </tr>\n",
       "    <tr>\n",
       "      <th>107</th>\n",
       "      <td>4</td>\n",
       "      <td>5</td>\n",
       "      <td>aug</td>\n",
       "      <td>sun</td>\n",
       "      <td>90.2</td>\n",
       "      <td>99.6</td>\n",
       "      <td>631.2</td>\n",
       "      <td>6.3</td>\n",
       "      <td>21.4</td>\n",
       "      <td>33</td>\n",
       "      <td>3.1</td>\n",
       "      <td>0.0</td>\n",
       "      <td>0.00</td>\n",
       "    </tr>\n",
       "    <tr>\n",
       "      <th>108</th>\n",
       "      <td>4</td>\n",
       "      <td>5</td>\n",
       "      <td>sep</td>\n",
       "      <td>sat</td>\n",
       "      <td>92.5</td>\n",
       "      <td>88.0</td>\n",
       "      <td>698.6</td>\n",
       "      <td>7.1</td>\n",
       "      <td>20.3</td>\n",
       "      <td>45</td>\n",
       "      <td>3.1</td>\n",
       "      <td>0.0</td>\n",
       "      <td>0.00</td>\n",
       "    </tr>\n",
       "    <tr>\n",
       "      <th>109</th>\n",
       "      <td>4</td>\n",
       "      <td>5</td>\n",
       "      <td>sep</td>\n",
       "      <td>mon</td>\n",
       "      <td>88.6</td>\n",
       "      <td>91.8</td>\n",
       "      <td>709.9</td>\n",
       "      <td>7.1</td>\n",
       "      <td>17.4</td>\n",
       "      <td>56</td>\n",
       "      <td>5.4</td>\n",
       "      <td>0.0</td>\n",
       "      <td>0.00</td>\n",
       "    </tr>\n",
       "    <tr>\n",
       "      <th>110</th>\n",
       "      <td>4</td>\n",
       "      <td>4</td>\n",
       "      <td>mar</td>\n",
       "      <td>fri</td>\n",
       "      <td>85.9</td>\n",
       "      <td>19.5</td>\n",
       "      <td>57.3</td>\n",
       "      <td>2.8</td>\n",
       "      <td>13.7</td>\n",
       "      <td>43</td>\n",
       "      <td>5.8</td>\n",
       "      <td>0.0</td>\n",
       "      <td>0.00</td>\n",
       "    </tr>\n",
       "    <tr>\n",
       "      <th>111</th>\n",
       "      <td>3</td>\n",
       "      <td>4</td>\n",
       "      <td>mar</td>\n",
       "      <td>fri</td>\n",
       "      <td>91.7</td>\n",
       "      <td>33.3</td>\n",
       "      <td>77.5</td>\n",
       "      <td>9.0</td>\n",
       "      <td>18.8</td>\n",
       "      <td>18</td>\n",
       "      <td>4.5</td>\n",
       "      <td>0.0</td>\n",
       "      <td>0.00</td>\n",
       "    </tr>\n",
       "    <tr>\n",
       "      <th>112</th>\n",
       "      <td>3</td>\n",
       "      <td>4</td>\n",
       "      <td>sep</td>\n",
       "      <td>sun</td>\n",
       "      <td>89.7</td>\n",
       "      <td>90.0</td>\n",
       "      <td>704.4</td>\n",
       "      <td>4.8</td>\n",
       "      <td>22.8</td>\n",
       "      <td>39</td>\n",
       "      <td>3.6</td>\n",
       "      <td>0.0</td>\n",
       "      <td>0.00</td>\n",
       "    </tr>\n",
       "    <tr>\n",
       "      <th>113</th>\n",
       "      <td>3</td>\n",
       "      <td>4</td>\n",
       "      <td>sep</td>\n",
       "      <td>mon</td>\n",
       "      <td>91.8</td>\n",
       "      <td>78.5</td>\n",
       "      <td>724.3</td>\n",
       "      <td>9.2</td>\n",
       "      <td>18.9</td>\n",
       "      <td>35</td>\n",
       "      <td>2.7</td>\n",
       "      <td>0.0</td>\n",
       "      <td>0.00</td>\n",
       "    </tr>\n",
       "    <tr>\n",
       "      <th>114</th>\n",
       "      <td>3</td>\n",
       "      <td>4</td>\n",
       "      <td>mar</td>\n",
       "      <td>tue</td>\n",
       "      <td>88.1</td>\n",
       "      <td>25.7</td>\n",
       "      <td>67.6</td>\n",
       "      <td>3.8</td>\n",
       "      <td>15.8</td>\n",
       "      <td>27</td>\n",
       "      <td>7.6</td>\n",
       "      <td>0.0</td>\n",
       "      <td>0.00</td>\n",
       "    </tr>\n",
       "    <tr>\n",
       "      <th>115</th>\n",
       "      <td>3</td>\n",
       "      <td>5</td>\n",
       "      <td>mar</td>\n",
       "      <td>tue</td>\n",
       "      <td>88.1</td>\n",
       "      <td>25.7</td>\n",
       "      <td>67.6</td>\n",
       "      <td>3.8</td>\n",
       "      <td>15.5</td>\n",
       "      <td>27</td>\n",
       "      <td>6.3</td>\n",
       "      <td>0.0</td>\n",
       "      <td>0.00</td>\n",
       "    </tr>\n",
       "    <tr>\n",
       "      <th>116</th>\n",
       "      <td>3</td>\n",
       "      <td>4</td>\n",
       "      <td>mar</td>\n",
       "      <td>sat</td>\n",
       "      <td>91.7</td>\n",
       "      <td>35.8</td>\n",
       "      <td>80.8</td>\n",
       "      <td>7.8</td>\n",
       "      <td>11.6</td>\n",
       "      <td>30</td>\n",
       "      <td>6.3</td>\n",
       "      <td>0.0</td>\n",
       "      <td>0.00</td>\n",
       "    </tr>\n",
       "    <tr>\n",
       "      <th>117</th>\n",
       "      <td>3</td>\n",
       "      <td>4</td>\n",
       "      <td>mar</td>\n",
       "      <td>sat</td>\n",
       "      <td>91.7</td>\n",
       "      <td>35.8</td>\n",
       "      <td>80.8</td>\n",
       "      <td>7.8</td>\n",
       "      <td>15.2</td>\n",
       "      <td>27</td>\n",
       "      <td>4.9</td>\n",
       "      <td>0.0</td>\n",
       "      <td>0.00</td>\n",
       "    </tr>\n",
       "    <tr>\n",
       "      <th>118</th>\n",
       "      <td>3</td>\n",
       "      <td>4</td>\n",
       "      <td>mar</td>\n",
       "      <td>mon</td>\n",
       "      <td>90.1</td>\n",
       "      <td>39.7</td>\n",
       "      <td>86.6</td>\n",
       "      <td>6.2</td>\n",
       "      <td>10.6</td>\n",
       "      <td>30</td>\n",
       "      <td>4.0</td>\n",
       "      <td>0.0</td>\n",
       "      <td>0.00</td>\n",
       "    </tr>\n",
       "    <tr>\n",
       "      <th>119</th>\n",
       "      <td>3</td>\n",
       "      <td>4</td>\n",
       "      <td>aug</td>\n",
       "      <td>thu</td>\n",
       "      <td>93.0</td>\n",
       "      <td>75.3</td>\n",
       "      <td>466.6</td>\n",
       "      <td>7.7</td>\n",
       "      <td>19.6</td>\n",
       "      <td>36</td>\n",
       "      <td>3.1</td>\n",
       "      <td>0.0</td>\n",
       "      <td>0.00</td>\n",
       "    </tr>\n",
       "    <tr>\n",
       "      <th>120</th>\n",
       "      <td>3</td>\n",
       "      <td>4</td>\n",
       "      <td>aug</td>\n",
       "      <td>mon</td>\n",
       "      <td>91.5</td>\n",
       "      <td>145.4</td>\n",
       "      <td>608.2</td>\n",
       "      <td>10.7</td>\n",
       "      <td>10.3</td>\n",
       "      <td>74</td>\n",
       "      <td>2.2</td>\n",
       "      <td>0.0</td>\n",
       "      <td>0.00</td>\n",
       "    </tr>\n",
       "    <tr>\n",
       "      <th>121</th>\n",
       "      <td>3</td>\n",
       "      <td>4</td>\n",
       "      <td>aug</td>\n",
       "      <td>mon</td>\n",
       "      <td>91.5</td>\n",
       "      <td>145.4</td>\n",
       "      <td>608.2</td>\n",
       "      <td>10.7</td>\n",
       "      <td>17.1</td>\n",
       "      <td>43</td>\n",
       "      <td>5.4</td>\n",
       "      <td>0.0</td>\n",
       "      <td>0.00</td>\n",
       "    </tr>\n",
       "    <tr>\n",
       "      <th>122</th>\n",
       "      <td>3</td>\n",
       "      <td>4</td>\n",
       "      <td>sep</td>\n",
       "      <td>sun</td>\n",
       "      <td>92.4</td>\n",
       "      <td>124.1</td>\n",
       "      <td>680.7</td>\n",
       "      <td>8.5</td>\n",
       "      <td>22.5</td>\n",
       "      <td>42</td>\n",
       "      <td>5.4</td>\n",
       "      <td>0.0</td>\n",
       "      <td>0.00</td>\n",
       "    </tr>\n",
       "    <tr>\n",
       "      <th>123</th>\n",
       "      <td>3</td>\n",
       "      <td>4</td>\n",
       "      <td>sep</td>\n",
       "      <td>tue</td>\n",
       "      <td>84.4</td>\n",
       "      <td>73.4</td>\n",
       "      <td>671.9</td>\n",
       "      <td>3.2</td>\n",
       "      <td>17.9</td>\n",
       "      <td>45</td>\n",
       "      <td>3.1</td>\n",
       "      <td>0.0</td>\n",
       "      <td>0.00</td>\n",
       "    </tr>\n",
       "    <tr>\n",
       "      <th>124</th>\n",
       "      <td>3</td>\n",
       "      <td>4</td>\n",
       "      <td>sep</td>\n",
       "      <td>fri</td>\n",
       "      <td>94.3</td>\n",
       "      <td>85.1</td>\n",
       "      <td>692.3</td>\n",
       "      <td>15.9</td>\n",
       "      <td>19.8</td>\n",
       "      <td>50</td>\n",
       "      <td>5.4</td>\n",
       "      <td>0.0</td>\n",
       "      <td>0.00</td>\n",
       "    </tr>\n",
       "    <tr>\n",
       "      <th>125</th>\n",
       "      <td>3</td>\n",
       "      <td>4</td>\n",
       "      <td>oct</td>\n",
       "      <td>sun</td>\n",
       "      <td>92.6</td>\n",
       "      <td>46.5</td>\n",
       "      <td>691.8</td>\n",
       "      <td>8.8</td>\n",
       "      <td>20.6</td>\n",
       "      <td>24</td>\n",
       "      <td>5.4</td>\n",
       "      <td>0.0</td>\n",
       "      <td>0.00</td>\n",
       "    </tr>\n",
       "    <tr>\n",
       "      <th>126</th>\n",
       "      <td>3</td>\n",
       "      <td>5</td>\n",
       "      <td>mar</td>\n",
       "      <td>mon</td>\n",
       "      <td>87.6</td>\n",
       "      <td>52.2</td>\n",
       "      <td>103.8</td>\n",
       "      <td>5.0</td>\n",
       "      <td>9.0</td>\n",
       "      <td>49</td>\n",
       "      <td>2.2</td>\n",
       "      <td>0.0</td>\n",
       "      <td>0.00</td>\n",
       "    </tr>\n",
       "    <tr>\n",
       "      <th>127</th>\n",
       "      <td>3</td>\n",
       "      <td>5</td>\n",
       "      <td>sep</td>\n",
       "      <td>fri</td>\n",
       "      <td>93.5</td>\n",
       "      <td>149.3</td>\n",
       "      <td>728.6</td>\n",
       "      <td>8.1</td>\n",
       "      <td>17.2</td>\n",
       "      <td>43</td>\n",
       "      <td>3.1</td>\n",
       "      <td>0.0</td>\n",
       "      <td>0.00</td>\n",
       "    </tr>\n",
       "    <tr>\n",
       "      <th>128</th>\n",
       "      <td>3</td>\n",
       "      <td>5</td>\n",
       "      <td>oct</td>\n",
       "      <td>wed</td>\n",
       "      <td>91.4</td>\n",
       "      <td>37.9</td>\n",
       "      <td>673.8</td>\n",
       "      <td>5.2</td>\n",
       "      <td>15.9</td>\n",
       "      <td>46</td>\n",
       "      <td>3.6</td>\n",
       "      <td>0.0</td>\n",
       "      <td>0.00</td>\n",
       "    </tr>\n",
       "    <tr>\n",
       "      <th>129</th>\n",
       "      <td>2</td>\n",
       "      <td>5</td>\n",
       "      <td>oct</td>\n",
       "      <td>sun</td>\n",
       "      <td>92.6</td>\n",
       "      <td>46.5</td>\n",
       "      <td>691.8</td>\n",
       "      <td>8.8</td>\n",
       "      <td>15.4</td>\n",
       "      <td>35</td>\n",
       "      <td>0.9</td>\n",
       "      <td>0.0</td>\n",
       "      <td>0.00</td>\n",
       "    </tr>\n",
       "    <tr>\n",
       "      <th>...</th>\n",
       "      <td>...</td>\n",
       "      <td>...</td>\n",
       "      <td>...</td>\n",
       "      <td>...</td>\n",
       "      <td>...</td>\n",
       "      <td>...</td>\n",
       "      <td>...</td>\n",
       "      <td>...</td>\n",
       "      <td>...</td>\n",
       "      <td>...</td>\n",
       "      <td>...</td>\n",
       "      <td>...</td>\n",
       "      <td>...</td>\n",
       "    </tr>\n",
       "    <tr>\n",
       "      <th>170</th>\n",
       "      <td>5</td>\n",
       "      <td>4</td>\n",
       "      <td>sep</td>\n",
       "      <td>wed</td>\n",
       "      <td>92.9</td>\n",
       "      <td>133.3</td>\n",
       "      <td>699.6</td>\n",
       "      <td>9.2</td>\n",
       "      <td>21.9</td>\n",
       "      <td>35</td>\n",
       "      <td>1.8</td>\n",
       "      <td>0.0</td>\n",
       "      <td>2.57</td>\n",
       "    </tr>\n",
       "    <tr>\n",
       "      <th>171</th>\n",
       "      <td>8</td>\n",
       "      <td>6</td>\n",
       "      <td>aug</td>\n",
       "      <td>wed</td>\n",
       "      <td>85.6</td>\n",
       "      <td>90.4</td>\n",
       "      <td>609.6</td>\n",
       "      <td>6.6</td>\n",
       "      <td>17.4</td>\n",
       "      <td>50</td>\n",
       "      <td>4.0</td>\n",
       "      <td>0.0</td>\n",
       "      <td>2.69</td>\n",
       "    </tr>\n",
       "    <tr>\n",
       "      <th>172</th>\n",
       "      <td>7</td>\n",
       "      <td>4</td>\n",
       "      <td>aug</td>\n",
       "      <td>sun</td>\n",
       "      <td>91.4</td>\n",
       "      <td>142.4</td>\n",
       "      <td>601.4</td>\n",
       "      <td>10.6</td>\n",
       "      <td>20.1</td>\n",
       "      <td>39</td>\n",
       "      <td>5.4</td>\n",
       "      <td>0.0</td>\n",
       "      <td>2.74</td>\n",
       "    </tr>\n",
       "    <tr>\n",
       "      <th>173</th>\n",
       "      <td>4</td>\n",
       "      <td>4</td>\n",
       "      <td>sep</td>\n",
       "      <td>mon</td>\n",
       "      <td>90.9</td>\n",
       "      <td>126.5</td>\n",
       "      <td>686.5</td>\n",
       "      <td>7.0</td>\n",
       "      <td>17.7</td>\n",
       "      <td>39</td>\n",
       "      <td>2.2</td>\n",
       "      <td>0.0</td>\n",
       "      <td>3.07</td>\n",
       "    </tr>\n",
       "    <tr>\n",
       "      <th>174</th>\n",
       "      <td>1</td>\n",
       "      <td>4</td>\n",
       "      <td>aug</td>\n",
       "      <td>sat</td>\n",
       "      <td>90.2</td>\n",
       "      <td>96.9</td>\n",
       "      <td>624.2</td>\n",
       "      <td>8.9</td>\n",
       "      <td>14.2</td>\n",
       "      <td>53</td>\n",
       "      <td>1.8</td>\n",
       "      <td>0.0</td>\n",
       "      <td>3.50</td>\n",
       "    </tr>\n",
       "    <tr>\n",
       "      <th>175</th>\n",
       "      <td>1</td>\n",
       "      <td>4</td>\n",
       "      <td>aug</td>\n",
       "      <td>sat</td>\n",
       "      <td>90.2</td>\n",
       "      <td>96.9</td>\n",
       "      <td>624.2</td>\n",
       "      <td>8.9</td>\n",
       "      <td>20.3</td>\n",
       "      <td>39</td>\n",
       "      <td>4.9</td>\n",
       "      <td>0.0</td>\n",
       "      <td>4.53</td>\n",
       "    </tr>\n",
       "    <tr>\n",
       "      <th>176</th>\n",
       "      <td>6</td>\n",
       "      <td>5</td>\n",
       "      <td>apr</td>\n",
       "      <td>thu</td>\n",
       "      <td>81.5</td>\n",
       "      <td>9.1</td>\n",
       "      <td>55.2</td>\n",
       "      <td>2.7</td>\n",
       "      <td>5.8</td>\n",
       "      <td>54</td>\n",
       "      <td>5.8</td>\n",
       "      <td>0.0</td>\n",
       "      <td>4.61</td>\n",
       "    </tr>\n",
       "    <tr>\n",
       "      <th>177</th>\n",
       "      <td>2</td>\n",
       "      <td>5</td>\n",
       "      <td>aug</td>\n",
       "      <td>sun</td>\n",
       "      <td>90.2</td>\n",
       "      <td>99.6</td>\n",
       "      <td>631.2</td>\n",
       "      <td>6.3</td>\n",
       "      <td>19.2</td>\n",
       "      <td>44</td>\n",
       "      <td>2.7</td>\n",
       "      <td>0.0</td>\n",
       "      <td>4.69</td>\n",
       "    </tr>\n",
       "    <tr>\n",
       "      <th>178</th>\n",
       "      <td>2</td>\n",
       "      <td>5</td>\n",
       "      <td>sep</td>\n",
       "      <td>wed</td>\n",
       "      <td>90.1</td>\n",
       "      <td>82.9</td>\n",
       "      <td>735.7</td>\n",
       "      <td>6.2</td>\n",
       "      <td>18.3</td>\n",
       "      <td>45</td>\n",
       "      <td>2.2</td>\n",
       "      <td>0.0</td>\n",
       "      <td>4.88</td>\n",
       "    </tr>\n",
       "    <tr>\n",
       "      <th>179</th>\n",
       "      <td>8</td>\n",
       "      <td>6</td>\n",
       "      <td>aug</td>\n",
       "      <td>tue</td>\n",
       "      <td>88.8</td>\n",
       "      <td>147.3</td>\n",
       "      <td>614.5</td>\n",
       "      <td>9.0</td>\n",
       "      <td>14.4</td>\n",
       "      <td>66</td>\n",
       "      <td>5.4</td>\n",
       "      <td>0.0</td>\n",
       "      <td>5.23</td>\n",
       "    </tr>\n",
       "    <tr>\n",
       "      <th>180</th>\n",
       "      <td>1</td>\n",
       "      <td>3</td>\n",
       "      <td>sep</td>\n",
       "      <td>sun</td>\n",
       "      <td>92.4</td>\n",
       "      <td>124.1</td>\n",
       "      <td>680.7</td>\n",
       "      <td>8.5</td>\n",
       "      <td>23.9</td>\n",
       "      <td>32</td>\n",
       "      <td>6.7</td>\n",
       "      <td>0.0</td>\n",
       "      <td>5.33</td>\n",
       "    </tr>\n",
       "    <tr>\n",
       "      <th>181</th>\n",
       "      <td>8</td>\n",
       "      <td>6</td>\n",
       "      <td>oct</td>\n",
       "      <td>mon</td>\n",
       "      <td>84.9</td>\n",
       "      <td>32.8</td>\n",
       "      <td>664.2</td>\n",
       "      <td>3.0</td>\n",
       "      <td>19.1</td>\n",
       "      <td>32</td>\n",
       "      <td>4.0</td>\n",
       "      <td>0.0</td>\n",
       "      <td>5.44</td>\n",
       "    </tr>\n",
       "    <tr>\n",
       "      <th>182</th>\n",
       "      <td>5</td>\n",
       "      <td>4</td>\n",
       "      <td>feb</td>\n",
       "      <td>sun</td>\n",
       "      <td>86.8</td>\n",
       "      <td>15.6</td>\n",
       "      <td>48.3</td>\n",
       "      <td>3.9</td>\n",
       "      <td>12.4</td>\n",
       "      <td>53</td>\n",
       "      <td>2.2</td>\n",
       "      <td>0.0</td>\n",
       "      <td>6.38</td>\n",
       "    </tr>\n",
       "    <tr>\n",
       "      <th>183</th>\n",
       "      <td>7</td>\n",
       "      <td>4</td>\n",
       "      <td>oct</td>\n",
       "      <td>mon</td>\n",
       "      <td>91.7</td>\n",
       "      <td>48.5</td>\n",
       "      <td>696.1</td>\n",
       "      <td>11.1</td>\n",
       "      <td>16.8</td>\n",
       "      <td>45</td>\n",
       "      <td>4.5</td>\n",
       "      <td>0.0</td>\n",
       "      <td>6.83</td>\n",
       "    </tr>\n",
       "    <tr>\n",
       "      <th>184</th>\n",
       "      <td>8</td>\n",
       "      <td>6</td>\n",
       "      <td>aug</td>\n",
       "      <td>fri</td>\n",
       "      <td>93.9</td>\n",
       "      <td>135.7</td>\n",
       "      <td>586.7</td>\n",
       "      <td>15.1</td>\n",
       "      <td>20.8</td>\n",
       "      <td>34</td>\n",
       "      <td>4.9</td>\n",
       "      <td>0.0</td>\n",
       "      <td>6.96</td>\n",
       "    </tr>\n",
       "    <tr>\n",
       "      <th>185</th>\n",
       "      <td>2</td>\n",
       "      <td>5</td>\n",
       "      <td>sep</td>\n",
       "      <td>tue</td>\n",
       "      <td>91.0</td>\n",
       "      <td>129.5</td>\n",
       "      <td>692.6</td>\n",
       "      <td>7.0</td>\n",
       "      <td>17.6</td>\n",
       "      <td>46</td>\n",
       "      <td>3.1</td>\n",
       "      <td>0.0</td>\n",
       "      <td>7.04</td>\n",
       "    </tr>\n",
       "    <tr>\n",
       "      <th>186</th>\n",
       "      <td>8</td>\n",
       "      <td>6</td>\n",
       "      <td>mar</td>\n",
       "      <td>sun</td>\n",
       "      <td>89.3</td>\n",
       "      <td>51.3</td>\n",
       "      <td>102.2</td>\n",
       "      <td>9.6</td>\n",
       "      <td>11.5</td>\n",
       "      <td>39</td>\n",
       "      <td>5.8</td>\n",
       "      <td>0.0</td>\n",
       "      <td>7.19</td>\n",
       "    </tr>\n",
       "    <tr>\n",
       "      <th>187</th>\n",
       "      <td>1</td>\n",
       "      <td>5</td>\n",
       "      <td>sep</td>\n",
       "      <td>mon</td>\n",
       "      <td>90.9</td>\n",
       "      <td>126.5</td>\n",
       "      <td>686.5</td>\n",
       "      <td>7.0</td>\n",
       "      <td>21.0</td>\n",
       "      <td>42</td>\n",
       "      <td>2.2</td>\n",
       "      <td>0.0</td>\n",
       "      <td>7.30</td>\n",
       "    </tr>\n",
       "    <tr>\n",
       "      <th>188</th>\n",
       "      <td>6</td>\n",
       "      <td>4</td>\n",
       "      <td>mar</td>\n",
       "      <td>sat</td>\n",
       "      <td>90.8</td>\n",
       "      <td>41.9</td>\n",
       "      <td>89.4</td>\n",
       "      <td>7.9</td>\n",
       "      <td>13.3</td>\n",
       "      <td>42</td>\n",
       "      <td>0.9</td>\n",
       "      <td>0.0</td>\n",
       "      <td>7.40</td>\n",
       "    </tr>\n",
       "    <tr>\n",
       "      <th>189</th>\n",
       "      <td>7</td>\n",
       "      <td>4</td>\n",
       "      <td>mar</td>\n",
       "      <td>sun</td>\n",
       "      <td>90.7</td>\n",
       "      <td>44.0</td>\n",
       "      <td>92.4</td>\n",
       "      <td>5.5</td>\n",
       "      <td>11.5</td>\n",
       "      <td>60</td>\n",
       "      <td>4.0</td>\n",
       "      <td>0.0</td>\n",
       "      <td>8.24</td>\n",
       "    </tr>\n",
       "    <tr>\n",
       "      <th>190</th>\n",
       "      <td>6</td>\n",
       "      <td>5</td>\n",
       "      <td>mar</td>\n",
       "      <td>fri</td>\n",
       "      <td>91.2</td>\n",
       "      <td>48.3</td>\n",
       "      <td>97.8</td>\n",
       "      <td>12.5</td>\n",
       "      <td>11.7</td>\n",
       "      <td>33</td>\n",
       "      <td>4.0</td>\n",
       "      <td>0.0</td>\n",
       "      <td>8.31</td>\n",
       "    </tr>\n",
       "    <tr>\n",
       "      <th>191</th>\n",
       "      <td>2</td>\n",
       "      <td>5</td>\n",
       "      <td>aug</td>\n",
       "      <td>thu</td>\n",
       "      <td>95.2</td>\n",
       "      <td>131.7</td>\n",
       "      <td>578.8</td>\n",
       "      <td>10.4</td>\n",
       "      <td>24.2</td>\n",
       "      <td>28</td>\n",
       "      <td>2.7</td>\n",
       "      <td>0.0</td>\n",
       "      <td>8.68</td>\n",
       "    </tr>\n",
       "    <tr>\n",
       "      <th>192</th>\n",
       "      <td>2</td>\n",
       "      <td>2</td>\n",
       "      <td>aug</td>\n",
       "      <td>tue</td>\n",
       "      <td>94.8</td>\n",
       "      <td>108.3</td>\n",
       "      <td>647.1</td>\n",
       "      <td>17.0</td>\n",
       "      <td>24.6</td>\n",
       "      <td>22</td>\n",
       "      <td>4.5</td>\n",
       "      <td>0.0</td>\n",
       "      <td>8.71</td>\n",
       "    </tr>\n",
       "    <tr>\n",
       "      <th>193</th>\n",
       "      <td>4</td>\n",
       "      <td>5</td>\n",
       "      <td>sep</td>\n",
       "      <td>wed</td>\n",
       "      <td>92.9</td>\n",
       "      <td>133.3</td>\n",
       "      <td>699.6</td>\n",
       "      <td>9.2</td>\n",
       "      <td>24.3</td>\n",
       "      <td>25</td>\n",
       "      <td>4.0</td>\n",
       "      <td>0.0</td>\n",
       "      <td>9.41</td>\n",
       "    </tr>\n",
       "    <tr>\n",
       "      <th>194</th>\n",
       "      <td>2</td>\n",
       "      <td>2</td>\n",
       "      <td>aug</td>\n",
       "      <td>tue</td>\n",
       "      <td>94.8</td>\n",
       "      <td>108.3</td>\n",
       "      <td>647.1</td>\n",
       "      <td>17.0</td>\n",
       "      <td>24.6</td>\n",
       "      <td>22</td>\n",
       "      <td>4.5</td>\n",
       "      <td>0.0</td>\n",
       "      <td>10.01</td>\n",
       "    </tr>\n",
       "    <tr>\n",
       "      <th>195</th>\n",
       "      <td>2</td>\n",
       "      <td>5</td>\n",
       "      <td>aug</td>\n",
       "      <td>fri</td>\n",
       "      <td>93.9</td>\n",
       "      <td>135.7</td>\n",
       "      <td>586.7</td>\n",
       "      <td>15.1</td>\n",
       "      <td>23.5</td>\n",
       "      <td>36</td>\n",
       "      <td>5.4</td>\n",
       "      <td>0.0</td>\n",
       "      <td>10.02</td>\n",
       "    </tr>\n",
       "    <tr>\n",
       "      <th>196</th>\n",
       "      <td>6</td>\n",
       "      <td>5</td>\n",
       "      <td>apr</td>\n",
       "      <td>thu</td>\n",
       "      <td>81.5</td>\n",
       "      <td>9.1</td>\n",
       "      <td>55.2</td>\n",
       "      <td>2.7</td>\n",
       "      <td>5.8</td>\n",
       "      <td>54</td>\n",
       "      <td>5.8</td>\n",
       "      <td>0.0</td>\n",
       "      <td>10.93</td>\n",
       "    </tr>\n",
       "    <tr>\n",
       "      <th>197</th>\n",
       "      <td>4</td>\n",
       "      <td>5</td>\n",
       "      <td>sep</td>\n",
       "      <td>thu</td>\n",
       "      <td>92.9</td>\n",
       "      <td>137.0</td>\n",
       "      <td>706.4</td>\n",
       "      <td>9.2</td>\n",
       "      <td>21.5</td>\n",
       "      <td>15</td>\n",
       "      <td>0.9</td>\n",
       "      <td>0.0</td>\n",
       "      <td>11.06</td>\n",
       "    </tr>\n",
       "    <tr>\n",
       "      <th>198</th>\n",
       "      <td>3</td>\n",
       "      <td>4</td>\n",
       "      <td>sep</td>\n",
       "      <td>tue</td>\n",
       "      <td>91.0</td>\n",
       "      <td>129.5</td>\n",
       "      <td>692.6</td>\n",
       "      <td>7.0</td>\n",
       "      <td>13.9</td>\n",
       "      <td>59</td>\n",
       "      <td>6.3</td>\n",
       "      <td>0.0</td>\n",
       "      <td>11.24</td>\n",
       "    </tr>\n",
       "    <tr>\n",
       "      <th>199</th>\n",
       "      <td>2</td>\n",
       "      <td>4</td>\n",
       "      <td>sep</td>\n",
       "      <td>mon</td>\n",
       "      <td>63.5</td>\n",
       "      <td>70.8</td>\n",
       "      <td>665.3</td>\n",
       "      <td>0.8</td>\n",
       "      <td>22.6</td>\n",
       "      <td>38</td>\n",
       "      <td>3.6</td>\n",
       "      <td>0.0</td>\n",
       "      <td>11.32</td>\n",
       "    </tr>\n",
       "  </tbody>\n",
       "</table>\n",
       "<p>100 rows × 13 columns</p>\n",
       "</div>"
      ],
      "text/plain": [
       "     X  Y month  day  FFMC    DMC     DC   ISI  temp  RH  wind  rain   area\n",
       "100  3  4   aug  sun  91.4  142.4  601.4  10.6  19.8  39   5.4   0.0   0.00\n",
       "101  3  4   aug  tue  88.8  147.3  614.5   9.0  14.4  66   5.4   0.0   0.00\n",
       "102  2  4   aug  tue  94.8  108.3  647.1  17.0  20.1  40   4.0   0.0   0.00\n",
       "103  2  4   sep  sat  92.5  121.1  674.4   8.6  24.1  29   4.5   0.0   0.00\n",
       "104  2  4   jan  sat  82.1    3.7    9.3   2.9   5.3  78   3.1   0.0   0.00\n",
       "105  4  5   mar  fri  85.9   19.5   57.3   2.8  12.7  52   6.3   0.0   0.00\n",
       "106  4  5   mar  thu  91.4   30.7   74.3   7.5  18.2  29   3.1   0.0   0.00\n",
       "107  4  5   aug  sun  90.2   99.6  631.2   6.3  21.4  33   3.1   0.0   0.00\n",
       "108  4  5   sep  sat  92.5   88.0  698.6   7.1  20.3  45   3.1   0.0   0.00\n",
       "109  4  5   sep  mon  88.6   91.8  709.9   7.1  17.4  56   5.4   0.0   0.00\n",
       "110  4  4   mar  fri  85.9   19.5   57.3   2.8  13.7  43   5.8   0.0   0.00\n",
       "111  3  4   mar  fri  91.7   33.3   77.5   9.0  18.8  18   4.5   0.0   0.00\n",
       "112  3  4   sep  sun  89.7   90.0  704.4   4.8  22.8  39   3.6   0.0   0.00\n",
       "113  3  4   sep  mon  91.8   78.5  724.3   9.2  18.9  35   2.7   0.0   0.00\n",
       "114  3  4   mar  tue  88.1   25.7   67.6   3.8  15.8  27   7.6   0.0   0.00\n",
       "115  3  5   mar  tue  88.1   25.7   67.6   3.8  15.5  27   6.3   0.0   0.00\n",
       "116  3  4   mar  sat  91.7   35.8   80.8   7.8  11.6  30   6.3   0.0   0.00\n",
       "117  3  4   mar  sat  91.7   35.8   80.8   7.8  15.2  27   4.9   0.0   0.00\n",
       "118  3  4   mar  mon  90.1   39.7   86.6   6.2  10.6  30   4.0   0.0   0.00\n",
       "119  3  4   aug  thu  93.0   75.3  466.6   7.7  19.6  36   3.1   0.0   0.00\n",
       "120  3  4   aug  mon  91.5  145.4  608.2  10.7  10.3  74   2.2   0.0   0.00\n",
       "121  3  4   aug  mon  91.5  145.4  608.2  10.7  17.1  43   5.4   0.0   0.00\n",
       "122  3  4   sep  sun  92.4  124.1  680.7   8.5  22.5  42   5.4   0.0   0.00\n",
       "123  3  4   sep  tue  84.4   73.4  671.9   3.2  17.9  45   3.1   0.0   0.00\n",
       "124  3  4   sep  fri  94.3   85.1  692.3  15.9  19.8  50   5.4   0.0   0.00\n",
       "125  3  4   oct  sun  92.6   46.5  691.8   8.8  20.6  24   5.4   0.0   0.00\n",
       "126  3  5   mar  mon  87.6   52.2  103.8   5.0   9.0  49   2.2   0.0   0.00\n",
       "127  3  5   sep  fri  93.5  149.3  728.6   8.1  17.2  43   3.1   0.0   0.00\n",
       "128  3  5   oct  wed  91.4   37.9  673.8   5.2  15.9  46   3.6   0.0   0.00\n",
       "129  2  5   oct  sun  92.6   46.5  691.8   8.8  15.4  35   0.9   0.0   0.00\n",
       "..  .. ..   ...  ...   ...    ...    ...   ...   ...  ..   ...   ...    ...\n",
       "170  5  4   sep  wed  92.9  133.3  699.6   9.2  21.9  35   1.8   0.0   2.57\n",
       "171  8  6   aug  wed  85.6   90.4  609.6   6.6  17.4  50   4.0   0.0   2.69\n",
       "172  7  4   aug  sun  91.4  142.4  601.4  10.6  20.1  39   5.4   0.0   2.74\n",
       "173  4  4   sep  mon  90.9  126.5  686.5   7.0  17.7  39   2.2   0.0   3.07\n",
       "174  1  4   aug  sat  90.2   96.9  624.2   8.9  14.2  53   1.8   0.0   3.50\n",
       "175  1  4   aug  sat  90.2   96.9  624.2   8.9  20.3  39   4.9   0.0   4.53\n",
       "176  6  5   apr  thu  81.5    9.1   55.2   2.7   5.8  54   5.8   0.0   4.61\n",
       "177  2  5   aug  sun  90.2   99.6  631.2   6.3  19.2  44   2.7   0.0   4.69\n",
       "178  2  5   sep  wed  90.1   82.9  735.7   6.2  18.3  45   2.2   0.0   4.88\n",
       "179  8  6   aug  tue  88.8  147.3  614.5   9.0  14.4  66   5.4   0.0   5.23\n",
       "180  1  3   sep  sun  92.4  124.1  680.7   8.5  23.9  32   6.7   0.0   5.33\n",
       "181  8  6   oct  mon  84.9   32.8  664.2   3.0  19.1  32   4.0   0.0   5.44\n",
       "182  5  4   feb  sun  86.8   15.6   48.3   3.9  12.4  53   2.2   0.0   6.38\n",
       "183  7  4   oct  mon  91.7   48.5  696.1  11.1  16.8  45   4.5   0.0   6.83\n",
       "184  8  6   aug  fri  93.9  135.7  586.7  15.1  20.8  34   4.9   0.0   6.96\n",
       "185  2  5   sep  tue  91.0  129.5  692.6   7.0  17.6  46   3.1   0.0   7.04\n",
       "186  8  6   mar  sun  89.3   51.3  102.2   9.6  11.5  39   5.8   0.0   7.19\n",
       "187  1  5   sep  mon  90.9  126.5  686.5   7.0  21.0  42   2.2   0.0   7.30\n",
       "188  6  4   mar  sat  90.8   41.9   89.4   7.9  13.3  42   0.9   0.0   7.40\n",
       "189  7  4   mar  sun  90.7   44.0   92.4   5.5  11.5  60   4.0   0.0   8.24\n",
       "190  6  5   mar  fri  91.2   48.3   97.8  12.5  11.7  33   4.0   0.0   8.31\n",
       "191  2  5   aug  thu  95.2  131.7  578.8  10.4  24.2  28   2.7   0.0   8.68\n",
       "192  2  2   aug  tue  94.8  108.3  647.1  17.0  24.6  22   4.5   0.0   8.71\n",
       "193  4  5   sep  wed  92.9  133.3  699.6   9.2  24.3  25   4.0   0.0   9.41\n",
       "194  2  2   aug  tue  94.8  108.3  647.1  17.0  24.6  22   4.5   0.0  10.01\n",
       "195  2  5   aug  fri  93.9  135.7  586.7  15.1  23.5  36   5.4   0.0  10.02\n",
       "196  6  5   apr  thu  81.5    9.1   55.2   2.7   5.8  54   5.8   0.0  10.93\n",
       "197  4  5   sep  thu  92.9  137.0  706.4   9.2  21.5  15   0.9   0.0  11.06\n",
       "198  3  4   sep  tue  91.0  129.5  692.6   7.0  13.9  59   6.3   0.0  11.24\n",
       "199  2  4   sep  mon  63.5   70.8  665.3   0.8  22.6  38   3.6   0.0  11.32\n",
       "\n",
       "[100 rows x 13 columns]"
      ]
     },
     "execution_count": 1,
     "metadata": {},
     "output_type": "execute_result"
    }
   ],
   "source": [
    "import pandas as pd\n",
    "df_forest = pd.read_csv(\"forestfires.csv\")\n",
    "df_forest[100:200]"
   ]
  },
  {
   "cell_type": "code",
   "execution_count": 2,
   "metadata": {},
   "outputs": [],
   "source": [
    "#Month and day are in text but for our linear regression model, we want to convert these to numerical models"
   ]
  },
  {
   "cell_type": "markdown",
   "metadata": {},
   "source": [
    "## One Hot Encoding to convert categorical days into 7 different columns with numerical values "
   ]
  },
  {
   "cell_type": "code",
   "execution_count": 3,
   "metadata": {},
   "outputs": [],
   "source": [
    "#pandas get_dummies method performs one-hot encoding for us"
   ]
  },
  {
   "cell_type": "code",
   "execution_count": 4,
   "metadata": {},
   "outputs": [],
   "source": [
    "df_forest = pd.get_dummies(df_forest)"
   ]
  },
  {
   "cell_type": "code",
   "execution_count": 5,
   "metadata": {},
   "outputs": [
    {
     "data": {
      "text/html": [
       "<div>\n",
       "<style scoped>\n",
       "    .dataframe tbody tr th:only-of-type {\n",
       "        vertical-align: middle;\n",
       "    }\n",
       "\n",
       "    .dataframe tbody tr th {\n",
       "        vertical-align: top;\n",
       "    }\n",
       "\n",
       "    .dataframe thead th {\n",
       "        text-align: right;\n",
       "    }\n",
       "</style>\n",
       "<table border=\"1\" class=\"dataframe\">\n",
       "  <thead>\n",
       "    <tr style=\"text-align: right;\">\n",
       "      <th></th>\n",
       "      <th>X</th>\n",
       "      <th>Y</th>\n",
       "      <th>FFMC</th>\n",
       "      <th>DMC</th>\n",
       "      <th>DC</th>\n",
       "      <th>ISI</th>\n",
       "      <th>temp</th>\n",
       "      <th>RH</th>\n",
       "      <th>wind</th>\n",
       "      <th>rain</th>\n",
       "      <th>...</th>\n",
       "      <th>month_nov</th>\n",
       "      <th>month_oct</th>\n",
       "      <th>month_sep</th>\n",
       "      <th>day_fri</th>\n",
       "      <th>day_mon</th>\n",
       "      <th>day_sat</th>\n",
       "      <th>day_sun</th>\n",
       "      <th>day_thu</th>\n",
       "      <th>day_tue</th>\n",
       "      <th>day_wed</th>\n",
       "    </tr>\n",
       "  </thead>\n",
       "  <tbody>\n",
       "    <tr>\n",
       "      <th>0</th>\n",
       "      <td>7</td>\n",
       "      <td>5</td>\n",
       "      <td>86.2</td>\n",
       "      <td>26.2</td>\n",
       "      <td>94.3</td>\n",
       "      <td>5.1</td>\n",
       "      <td>8.2</td>\n",
       "      <td>51</td>\n",
       "      <td>6.7</td>\n",
       "      <td>0.0</td>\n",
       "      <td>...</td>\n",
       "      <td>0</td>\n",
       "      <td>0</td>\n",
       "      <td>0</td>\n",
       "      <td>1</td>\n",
       "      <td>0</td>\n",
       "      <td>0</td>\n",
       "      <td>0</td>\n",
       "      <td>0</td>\n",
       "      <td>0</td>\n",
       "      <td>0</td>\n",
       "    </tr>\n",
       "    <tr>\n",
       "      <th>1</th>\n",
       "      <td>7</td>\n",
       "      <td>4</td>\n",
       "      <td>90.6</td>\n",
       "      <td>35.4</td>\n",
       "      <td>669.1</td>\n",
       "      <td>6.7</td>\n",
       "      <td>18.0</td>\n",
       "      <td>33</td>\n",
       "      <td>0.9</td>\n",
       "      <td>0.0</td>\n",
       "      <td>...</td>\n",
       "      <td>0</td>\n",
       "      <td>1</td>\n",
       "      <td>0</td>\n",
       "      <td>0</td>\n",
       "      <td>0</td>\n",
       "      <td>0</td>\n",
       "      <td>0</td>\n",
       "      <td>0</td>\n",
       "      <td>1</td>\n",
       "      <td>0</td>\n",
       "    </tr>\n",
       "    <tr>\n",
       "      <th>2</th>\n",
       "      <td>7</td>\n",
       "      <td>4</td>\n",
       "      <td>90.6</td>\n",
       "      <td>43.7</td>\n",
       "      <td>686.9</td>\n",
       "      <td>6.7</td>\n",
       "      <td>14.6</td>\n",
       "      <td>33</td>\n",
       "      <td>1.3</td>\n",
       "      <td>0.0</td>\n",
       "      <td>...</td>\n",
       "      <td>0</td>\n",
       "      <td>1</td>\n",
       "      <td>0</td>\n",
       "      <td>0</td>\n",
       "      <td>0</td>\n",
       "      <td>1</td>\n",
       "      <td>0</td>\n",
       "      <td>0</td>\n",
       "      <td>0</td>\n",
       "      <td>0</td>\n",
       "    </tr>\n",
       "    <tr>\n",
       "      <th>3</th>\n",
       "      <td>8</td>\n",
       "      <td>6</td>\n",
       "      <td>91.7</td>\n",
       "      <td>33.3</td>\n",
       "      <td>77.5</td>\n",
       "      <td>9.0</td>\n",
       "      <td>8.3</td>\n",
       "      <td>97</td>\n",
       "      <td>4.0</td>\n",
       "      <td>0.2</td>\n",
       "      <td>...</td>\n",
       "      <td>0</td>\n",
       "      <td>0</td>\n",
       "      <td>0</td>\n",
       "      <td>1</td>\n",
       "      <td>0</td>\n",
       "      <td>0</td>\n",
       "      <td>0</td>\n",
       "      <td>0</td>\n",
       "      <td>0</td>\n",
       "      <td>0</td>\n",
       "    </tr>\n",
       "    <tr>\n",
       "      <th>4</th>\n",
       "      <td>8</td>\n",
       "      <td>6</td>\n",
       "      <td>89.3</td>\n",
       "      <td>51.3</td>\n",
       "      <td>102.2</td>\n",
       "      <td>9.6</td>\n",
       "      <td>11.4</td>\n",
       "      <td>99</td>\n",
       "      <td>1.8</td>\n",
       "      <td>0.0</td>\n",
       "      <td>...</td>\n",
       "      <td>0</td>\n",
       "      <td>0</td>\n",
       "      <td>0</td>\n",
       "      <td>0</td>\n",
       "      <td>0</td>\n",
       "      <td>0</td>\n",
       "      <td>1</td>\n",
       "      <td>0</td>\n",
       "      <td>0</td>\n",
       "      <td>0</td>\n",
       "    </tr>\n",
       "  </tbody>\n",
       "</table>\n",
       "<p>5 rows × 30 columns</p>\n",
       "</div>"
      ],
      "text/plain": [
       "   X  Y  FFMC   DMC     DC  ISI  temp  RH  wind  rain   ...     month_nov  \\\n",
       "0  7  5  86.2  26.2   94.3  5.1   8.2  51   6.7   0.0   ...             0   \n",
       "1  7  4  90.6  35.4  669.1  6.7  18.0  33   0.9   0.0   ...             0   \n",
       "2  7  4  90.6  43.7  686.9  6.7  14.6  33   1.3   0.0   ...             0   \n",
       "3  8  6  91.7  33.3   77.5  9.0   8.3  97   4.0   0.2   ...             0   \n",
       "4  8  6  89.3  51.3  102.2  9.6  11.4  99   1.8   0.0   ...             0   \n",
       "\n",
       "   month_oct  month_sep  day_fri  day_mon  day_sat  day_sun  day_thu  day_tue  \\\n",
       "0          0          0        1        0        0        0        0        0   \n",
       "1          1          0        0        0        0        0        0        1   \n",
       "2          1          0        0        0        1        0        0        0   \n",
       "3          0          0        1        0        0        0        0        0   \n",
       "4          0          0        0        0        0        1        0        0   \n",
       "\n",
       "   day_wed  \n",
       "0        0  \n",
       "1        0  \n",
       "2        0  \n",
       "3        0  \n",
       "4        0  \n",
       "\n",
       "[5 rows x 30 columns]"
      ]
     },
     "execution_count": 5,
     "metadata": {},
     "output_type": "execute_result"
    }
   ],
   "source": [
    "df_forest.head(5)"
   ]
  },
  {
   "cell_type": "code",
   "execution_count": 6,
   "metadata": {},
   "outputs": [],
   "source": [
    "#We can see the new columns created for month and day as those were categorical variables"
   ]
  },
  {
   "cell_type": "markdown",
   "metadata": {},
   "source": [
    "## Removing MultiCollinearity from the dataset"
   ]
  },
  {
   "cell_type": "code",
   "execution_count": 7,
   "metadata": {},
   "outputs": [],
   "source": [
    "# Ex- At a time only 1 day can have fire out of 7 and hence we just need 6 columns to predict the day"
   ]
  },
  {
   "cell_type": "code",
   "execution_count": 8,
   "metadata": {},
   "outputs": [],
   "source": [
    "#Remove any one month and any one day"
   ]
  },
  {
   "cell_type": "code",
   "execution_count": 9,
   "metadata": {},
   "outputs": [],
   "source": [
    "df_forest.drop(labels=['month_mar', 'day_fri'], axis=1, inplace=True)"
   ]
  },
  {
   "cell_type": "code",
   "execution_count": 10,
   "metadata": {},
   "outputs": [],
   "source": [
    "#Checking range of each column"
   ]
  },
  {
   "cell_type": "code",
   "execution_count": 11,
   "metadata": {},
   "outputs": [
    {
     "data": {
      "text/plain": [
       "X               8.00\n",
       "Y               7.00\n",
       "FFMC           77.50\n",
       "DMC           290.20\n",
       "DC            852.70\n",
       "ISI            56.10\n",
       "temp           31.10\n",
       "RH             85.00\n",
       "wind            9.00\n",
       "rain            6.40\n",
       "area         1090.84\n",
       "month_apr       1.00\n",
       "month_aug       1.00\n",
       "month_dec       1.00\n",
       "month_feb       1.00\n",
       "month_jan       1.00\n",
       "month_jul       1.00\n",
       "month_jun       1.00\n",
       "month_may       1.00\n",
       "month_nov       1.00\n",
       "month_oct       1.00\n",
       "month_sep       1.00\n",
       "day_mon         1.00\n",
       "day_sat         1.00\n",
       "day_sun         1.00\n",
       "day_thu         1.00\n",
       "day_tue         1.00\n",
       "day_wed         1.00\n",
       "dtype: float64"
      ]
     },
     "execution_count": 11,
     "metadata": {},
     "output_type": "execute_result"
    }
   ],
   "source": [
    "df_forest.max() - df_forest.min()"
   ]
  },
  {
   "cell_type": "code",
   "execution_count": 12,
   "metadata": {},
   "outputs": [],
   "source": [
    "#We see the variance is high for fields like area,DC , DMC while many has variance of just 1"
   ]
  },
  {
   "cell_type": "markdown",
   "metadata": {},
   "source": [
    "## We can Scale Data to make variance uniform"
   ]
  },
  {
   "cell_type": "code",
   "execution_count": 13,
   "metadata": {},
   "outputs": [],
   "source": [
    "#Linear Regression can handle variance but it is good practice to make data Normalized and standardized"
   ]
  },
  {
   "cell_type": "markdown",
   "metadata": {},
   "source": [
    "### Scaling is helpful when we perform Gradient Descent or Regularization on our Data"
   ]
  },
  {
   "cell_type": "code",
   "execution_count": 14,
   "metadata": {},
   "outputs": [],
   "source": [
    "#Not scaling data for sake of simplicity, will show it later"
   ]
  },
  {
   "cell_type": "markdown",
   "metadata": {},
   "source": [
    "## Dividing features and target Value in the dataset"
   ]
  },
  {
   "cell_type": "code",
   "execution_count": 15,
   "metadata": {},
   "outputs": [
    {
     "data": {
      "text/plain": [
       "Index(['X', 'Y', 'FFMC', 'DMC', 'DC', 'ISI', 'temp', 'RH', 'wind', 'rain',\n",
       "       'month_apr', 'month_aug', 'month_dec', 'month_feb', 'month_jan',\n",
       "       'month_jul', 'month_jun', 'month_may', 'month_nov', 'month_oct',\n",
       "       'month_sep', 'day_mon', 'day_sat', 'day_sun', 'day_thu', 'day_tue',\n",
       "       'day_wed'],\n",
       "      dtype='object')"
      ]
     },
     "execution_count": 15,
     "metadata": {},
     "output_type": "execute_result"
    }
   ],
   "source": [
    "from sklearn.linear_model import LinearRegression\n",
    "\n",
    "forest_features = df_forest.copy()\n",
    "target_value = forest_features.pop('area')\n",
    "\n",
    "forest_features.columns\n"
   ]
  },
  {
   "cell_type": "markdown",
   "metadata": {},
   "source": [
    "## Fitting Linear Regression Model to features and prediction Value"
   ]
  },
  {
   "cell_type": "code",
   "execution_count": 16,
   "metadata": {},
   "outputs": [
    {
     "data": {
      "text/plain": [
       "LinearRegression(copy_X=True, fit_intercept=True, n_jobs=1, normalize=False)"
      ]
     },
     "execution_count": 16,
     "metadata": {},
     "output_type": "execute_result"
    }
   ],
   "source": [
    "lr = LinearRegression(fit_intercept=True)\n",
    "lr.fit(forest_features, target_value)"
   ]
  },
  {
   "cell_type": "markdown",
   "metadata": {},
   "source": [
    "## Calculating RMSE for the Model to get the Cost function"
   ]
  },
  {
   "cell_type": "code",
   "execution_count": 17,
   "metadata": {},
   "outputs": [
    {
     "name": "stdout",
     "output_type": "stream",
     "text": [
      "0.0457820965080854\n"
     ]
    }
   ],
   "source": [
    "from sklearn.metrics import mean_squared_error\n",
    "import numpy as np\n",
    "# R^2\n",
    "print(lr.score(forest_features, target_value)) \n",
    "\n"
   ]
  },
  {
   "cell_type": "code",
   "execution_count": 18,
   "metadata": {},
   "outputs": [
    {
     "name": "stdout",
     "output_type": "stream",
     "text": [
      "62.12143311792723\n"
     ]
    }
   ],
   "source": [
    "predictions = lr.predict(forest_features)\n",
    "mse = mean_squared_error(target_value, predictions)\n",
    "rmse = np.sqrt(mse)\n",
    "print(rmse)"
   ]
  },
  {
   "cell_type": "code",
   "execution_count": 19,
   "metadata": {},
   "outputs": [],
   "source": [
    "# Low r square values shows that model target value - > area has some huge outliers which have skewed the model \n",
    "# R-squared is fairly straight-forward; it is the percentage of the response variable variation that is explained by a linear model"
   ]
  },
  {
   "cell_type": "code",
   "execution_count": 20,
   "metadata": {},
   "outputs": [],
   "source": [
    "#RMSE here tells the average error or average difference between predicted value and actual value "
   ]
  },
  {
   "cell_type": "markdown",
   "metadata": {},
   "source": [
    "## RMSE should go towards 0 and R^2 should approach 1 for Model to be good"
   ]
  },
  {
   "cell_type": "markdown",
   "metadata": {},
   "source": [
    "# Why this Model performed poorly?"
   ]
  },
  {
   "cell_type": "code",
   "execution_count": 21,
   "metadata": {},
   "outputs": [],
   "source": [
    "# It does because it is just like a lookup table where it takes a setup of input and tries to look for nearby output and gives result from all our data"
   ]
  },
  {
   "cell_type": "markdown",
   "metadata": {},
   "source": [
    "#### Never train and test the model on same data as it will either print incredible results or poor results but it is of no use as it is like a lookup rather than a prediction"
   ]
  },
  {
   "cell_type": "markdown",
   "metadata": {},
   "source": [
    "#### The error produced in our model is called training error or in-sample error"
   ]
  },
  {
   "cell_type": "markdown",
   "metadata": {},
   "source": [
    "### Finding Out-Sample error which will complete our model evaluation, it is calculated from the model performance on a data it hasn't seen before "
   ]
  },
  {
   "cell_type": "markdown",
   "metadata": {},
   "source": [
    "### Splitting data into Training and Test to calculate Out-Sample Error using train_test_split of sklearn, I have kept test_size as 30% but usually we take it as 20-30%"
   ]
  },
  {
   "cell_type": "code",
   "execution_count": 22,
   "metadata": {},
   "outputs": [],
   "source": [
    "from sklearn.model_selection import train_test_split\n",
    "\n",
    "X_train, X_test, y_train, y_test = train_test_split(forest_features, target_value, shuffle=True,\n",
    "                                                    test_size=0.5, random_state=49)"
   ]
  },
  {
   "cell_type": "markdown",
   "metadata": {},
   "source": [
    "### Fitting our Linear Regression Model on Training Data"
   ]
  },
  {
   "cell_type": "code",
   "execution_count": 23,
   "metadata": {},
   "outputs": [
    {
     "data": {
      "text/plain": [
       "LinearRegression(copy_X=True, fit_intercept=True, n_jobs=1, normalize=False)"
      ]
     },
     "execution_count": 23,
     "metadata": {},
     "output_type": "execute_result"
    }
   ],
   "source": [
    "lr_split = LinearRegression(fit_intercept=True)\n",
    "lr_split.fit(X_train, y_train)"
   ]
  },
  {
   "cell_type": "markdown",
   "metadata": {},
   "source": [
    "### Calculating ISE - In-Sample Error"
   ]
  },
  {
   "cell_type": "code",
   "execution_count": 24,
   "metadata": {},
   "outputs": [],
   "source": [
    "#On training data\n",
    "def calc_ISE(X_train, y_train, model):\n",
    "    '''returns the in-sample R^2 and RMSE; assumes model already fit.'''\n",
    "    predictions = model.predict(X_train)\n",
    "    mse = mean_squared_error(y_train, predictions)\n",
    "    rmse = np.sqrt(mse)\n",
    "    return model.score(X_train, y_train), rmse\n",
    "    \n",
    "#Returns R^2 and RMSE "
   ]
  },
  {
   "cell_type": "markdown",
   "metadata": {},
   "source": [
    "###  Calculating OSE - Out-Sample Error"
   ]
  },
  {
   "cell_type": "code",
   "execution_count": 25,
   "metadata": {},
   "outputs": [],
   "source": [
    "#on Test Data\n",
    "def calc_OSE(X_test, y_test, model):\n",
    "    '''returns the out-of-sample R^2 and RMSE; assumes model already fit.'''\n",
    "    predictions = model.predict(X_test)\n",
    "    mse = mean_squared_error(y_test, predictions)\n",
    "    rmse = np.sqrt(mse)\n",
    "    return model.score(X_test, y_test), rmse"
   ]
  },
  {
   "cell_type": "code",
   "execution_count": 26,
   "metadata": {},
   "outputs": [],
   "source": [
    "#Getting R^2 Value and RMSE value for ISE and OSE"
   ]
  },
  {
   "cell_type": "code",
   "execution_count": 27,
   "metadata": {},
   "outputs": [
    {
     "name": "stdout",
     "output_type": "stream",
     "text": [
      "R^2_in    : 0.07513974961762826\n",
      "R^2_out   : -0.0049016045920677875\n",
      "RMSE - ISE: 24.75445904929311\n",
      "RMSE - OSE: 86.02373054123044\n"
     ]
    }
   ],
   "source": [
    "is_r2, ise = calc_ISE(X_train, y_train, lr_split)\n",
    "os_r2, ose = calc_OSE(X_test, y_test, lr_split)\n",
    "\n",
    "# show dataset sizes\n",
    "data_list = (('R^2_in', is_r2), ('R^2_out', os_r2), \n",
    "             ('RMSE - ISE', ise), ('RMSE - OSE', ose))\n",
    "for item in data_list:\n",
    "    print('{:10}: {}'.format(item[0], item[1]))"
   ]
  },
  {
   "cell_type": "code",
   "execution_count": 28,
   "metadata": {},
   "outputs": [],
   "source": [
    "# Here R^2 for OSE is lower than R^2 for ISE meaning variance is higher while prediciting test data"
   ]
  },
  {
   "cell_type": "code",
   "execution_count": 29,
   "metadata": {},
   "outputs": [],
   "source": [
    "#Also, RMSE for test data is twice as compared to RMSE for training data"
   ]
  },
  {
   "cell_type": "markdown",
   "metadata": {},
   "source": [
    "## These 4 values shows that there is overfitting of data"
   ]
  },
  {
   "cell_type": "markdown",
   "metadata": {},
   "source": [
    "#### The greater the gap between training and test error, more the overfitting"
   ]
  },
  {
   "cell_type": "markdown",
   "metadata": {},
   "source": [
    "### How to avoid Overfitting now?  Answer is given by Bias-Variance Tradeoff"
   ]
  },
  {
   "cell_type": "markdown",
   "metadata": {},
   "source": [
    "### Mostly test error would be greater than train error and if it is not the case then there is something fishy with the data and needs immediate focus"
   ]
  },
  {
   "cell_type": "code",
   "execution_count": 30,
   "metadata": {},
   "outputs": [],
   "source": [
    "#Splitting of data also affects the change in test and train errors and we need to pickup the best split"
   ]
  },
  {
   "cell_type": "markdown",
   "metadata": {},
   "source": [
    "### The best split is picked up using train/test split in small-mid datasets and using Cross-Validation in mid- large Datasets"
   ]
  },
  {
   "cell_type": "code",
   "execution_count": 31,
   "metadata": {},
   "outputs": [],
   "source": [
    "# Picking up four features to check RMSE and R^2 value change too see if we are going away from Overfitting"
   ]
  },
  {
   "cell_type": "code",
   "execution_count": 95,
   "metadata": {},
   "outputs": [
    {
     "data": {
      "text/plain": [
       "Index(['X', 'Y', 'FFMC', 'DMC', 'DC', 'ISI', 'temp', 'RH', 'wind', 'rain',\n",
       "       'month_apr', 'month_aug', 'month_dec', 'month_feb', 'month_jan',\n",
       "       'month_jul', 'month_jun', 'month_may', 'month_nov', 'month_oct',\n",
       "       'month_sep', 'day_mon', 'day_sat', 'day_sun', 'day_thu', 'day_tue',\n",
       "       'day_wed'],\n",
       "      dtype='object')"
      ]
     },
     "execution_count": 95,
     "metadata": {},
     "output_type": "execute_result"
    }
   ],
   "source": [
    "forest_features = df_forest.copy()\n",
    "target_value = forest_features.pop('area')\n",
    "\n",
    "forest_features.columns"
   ]
  },
  {
   "cell_type": "code",
   "execution_count": 96,
   "metadata": {},
   "outputs": [],
   "source": [
    "# keeping rain, wind, RH and temp"
   ]
  },
  {
   "cell_type": "code",
   "execution_count": 97,
   "metadata": {},
   "outputs": [
    {
     "data": {
      "text/html": [
       "<div>\n",
       "<style scoped>\n",
       "    .dataframe tbody tr th:only-of-type {\n",
       "        vertical-align: middle;\n",
       "    }\n",
       "\n",
       "    .dataframe tbody tr th {\n",
       "        vertical-align: top;\n",
       "    }\n",
       "\n",
       "    .dataframe thead th {\n",
       "        text-align: right;\n",
       "    }\n",
       "</style>\n",
       "<table border=\"1\" class=\"dataframe\">\n",
       "  <thead>\n",
       "    <tr style=\"text-align: right;\">\n",
       "      <th></th>\n",
       "      <th>RH</th>\n",
       "      <th>wind</th>\n",
       "      <th>ISI</th>\n",
       "      <th>rain</th>\n",
       "    </tr>\n",
       "  </thead>\n",
       "  <tbody>\n",
       "    <tr>\n",
       "      <th>0</th>\n",
       "      <td>51</td>\n",
       "      <td>6.7</td>\n",
       "      <td>5.1</td>\n",
       "      <td>0.0</td>\n",
       "    </tr>\n",
       "    <tr>\n",
       "      <th>1</th>\n",
       "      <td>33</td>\n",
       "      <td>0.9</td>\n",
       "      <td>6.7</td>\n",
       "      <td>0.0</td>\n",
       "    </tr>\n",
       "    <tr>\n",
       "      <th>2</th>\n",
       "      <td>33</td>\n",
       "      <td>1.3</td>\n",
       "      <td>6.7</td>\n",
       "      <td>0.0</td>\n",
       "    </tr>\n",
       "    <tr>\n",
       "      <th>3</th>\n",
       "      <td>97</td>\n",
       "      <td>4.0</td>\n",
       "      <td>9.0</td>\n",
       "      <td>0.2</td>\n",
       "    </tr>\n",
       "    <tr>\n",
       "      <th>4</th>\n",
       "      <td>99</td>\n",
       "      <td>1.8</td>\n",
       "      <td>9.6</td>\n",
       "      <td>0.0</td>\n",
       "    </tr>\n",
       "  </tbody>\n",
       "</table>\n",
       "</div>"
      ],
      "text/plain": [
       "   RH  wind  ISI  rain\n",
       "0  51   6.7  5.1   0.0\n",
       "1  33   0.9  6.7   0.0\n",
       "2  33   1.3  6.7   0.0\n",
       "3  97   4.0  9.0   0.2\n",
       "4  99   1.8  9.6   0.0"
      ]
     },
     "execution_count": 97,
     "metadata": {},
     "output_type": "execute_result"
    }
   ],
   "source": [
    "forest_features_new = forest_features[['RH', 'wind', 'ISI', 'rain']]\n",
    "forest_features_new.head()"
   ]
  },
  {
   "cell_type": "code",
   "execution_count": 98,
   "metadata": {},
   "outputs": [],
   "source": [
    "#fitting linear model to new features and target value"
   ]
  },
  {
   "cell_type": "code",
   "execution_count": 99,
   "metadata": {},
   "outputs": [],
   "source": [
    "X_train, X_test, y_train, y_test = train_test_split(forest_features_new, target_value, shuffle=True,\n",
    "                                                    test_size=0.5, random_state=49)"
   ]
  },
  {
   "cell_type": "code",
   "execution_count": 100,
   "metadata": {},
   "outputs": [
    {
     "data": {
      "text/plain": [
       "LinearRegression(copy_X=True, fit_intercept=True, n_jobs=1, normalize=False)"
      ]
     },
     "execution_count": 100,
     "metadata": {},
     "output_type": "execute_result"
    }
   ],
   "source": [
    "lr_split = LinearRegression(fit_intercept=True)\n",
    "lr_split.fit(X_train, y_train)"
   ]
  },
  {
   "cell_type": "code",
   "execution_count": 101,
   "metadata": {},
   "outputs": [
    {
     "name": "stdout",
     "output_type": "stream",
     "text": [
      "R^2_in    : 0.0016200563713708593\n",
      "R^2_out   : -0.01114972529073821\n",
      "RMSE - ISE: 25.719546528513177\n",
      "RMSE - OSE: 86.29074860599145\n"
     ]
    }
   ],
   "source": [
    "is_r2, ise = calc_ISE(X_train, y_train, lr_split)\n",
    "os_r2, ose = calc_OSE(X_test, y_test, lr_split)\n",
    "\n",
    "# show dataset sizes\n",
    "data_list = (('R^2_in', is_r2), ('R^2_out', os_r2), \n",
    "             ('RMSE - ISE', ise), ('RMSE - OSE', ose))\n",
    "for item in data_list:\n",
    "    print('{:10}: {}'.format(item[0], item[1]))"
   ]
  },
  {
   "cell_type": "code",
   "execution_count": 102,
   "metadata": {},
   "outputs": [],
   "source": [
    "# very minute difference in RMSE value but R^2 has increased considerably showing that we are moving in the right direction. "
   ]
  },
  {
   "cell_type": "code",
   "execution_count": 103,
   "metadata": {},
   "outputs": [],
   "source": [
    "# The problem here is that data is less and maybe not highly dependent on features!"
   ]
  },
  {
   "cell_type": "markdown",
   "metadata": {},
   "source": [
    "## Considering Boston Dataset to understand overfitting and Bias-Variance Tradeoff"
   ]
  },
  {
   "cell_type": "code",
   "execution_count": 104,
   "metadata": {},
   "outputs": [],
   "source": [
    "#Taking up a better dataset\n",
    "from sklearn.datasets import load_boston\n",
    "boston = load_boston()\n",
    "data = boston.data\n",
    "target = boston.target"
   ]
  },
  {
   "cell_type": "code",
   "execution_count": 105,
   "metadata": {},
   "outputs": [],
   "source": [
    "#Splitting data into train and test for fitting and prediction"
   ]
  },
  {
   "cell_type": "code",
   "execution_count": 139,
   "metadata": {},
   "outputs": [
    {
     "data": {
      "text/plain": [
       "array([24. , 21.6, 34.7, 33.4, 36.2, 28.7, 22.9, 27.1, 16.5, 18.9, 15. ,\n",
       "       18.9, 21.7, 20.4, 18.2, 19.9, 23.1, 17.5, 20.2, 18.2, 13.6, 19.6,\n",
       "       15.2, 14.5, 15.6, 13.9, 16.6, 14.8, 18.4, 21. , 12.7, 14.5, 13.2,\n",
       "       13.1, 13.5, 18.9, 20. , 21. , 24.7, 30.8, 34.9, 26.6, 25.3, 24.7,\n",
       "       21.2, 19.3, 20. , 16.6, 14.4, 19.4, 19.7, 20.5, 25. , 23.4, 18.9,\n",
       "       35.4, 24.7, 31.6, 23.3, 19.6, 18.7, 16. , 22.2, 25. , 33. , 23.5,\n",
       "       19.4, 22. , 17.4, 20.9, 24.2, 21.7, 22.8, 23.4, 24.1, 21.4, 20. ,\n",
       "       20.8, 21.2, 20.3, 28. , 23.9, 24.8, 22.9, 23.9, 26.6, 22.5, 22.2,\n",
       "       23.6, 28.7, 22.6, 22. , 22.9, 25. , 20.6, 28.4, 21.4, 38.7, 43.8,\n",
       "       33.2, 27.5, 26.5, 18.6, 19.3, 20.1, 19.5, 19.5, 20.4, 19.8, 19.4,\n",
       "       21.7, 22.8, 18.8, 18.7, 18.5, 18.3, 21.2, 19.2, 20.4, 19.3, 22. ,\n",
       "       20.3, 20.5, 17.3, 18.8, 21.4, 15.7, 16.2, 18. , 14.3, 19.2, 19.6,\n",
       "       23. , 18.4, 15.6, 18.1, 17.4, 17.1, 13.3, 17.8, 14. , 14.4, 13.4,\n",
       "       15.6, 11.8, 13.8, 15.6, 14.6, 17.8, 15.4, 21.5, 19.6, 15.3, 19.4,\n",
       "       17. , 15.6, 13.1, 41.3, 24.3, 23.3, 27. , 50. , 50. , 50. , 22.7,\n",
       "       25. , 50. , 23.8, 23.8, 22.3, 17.4, 19.1, 23.1, 23.6, 22.6, 29.4,\n",
       "       23.2, 24.6, 29.9, 37.2, 39.8, 36.2, 37.9, 32.5, 26.4, 29.6, 50. ,\n",
       "       32. , 29.8, 34.9, 37. , 30.5, 36.4, 31.1, 29.1, 50. , 33.3, 30.3,\n",
       "       34.6, 34.9, 32.9, 24.1, 42.3, 48.5, 50. , 22.6, 24.4, 22.5, 24.4,\n",
       "       20. , 21.7, 19.3, 22.4, 28.1, 23.7, 25. , 23.3, 28.7, 21.5, 23. ,\n",
       "       26.7, 21.7, 27.5, 30.1, 44.8, 50. , 37.6, 31.6, 46.7, 31.5, 24.3,\n",
       "       31.7, 41.7, 48.3, 29. , 24. , 25.1, 31.5, 23.7, 23.3, 22. , 20.1,\n",
       "       22.2, 23.7, 17.6, 18.5, 24.3, 20.5, 24.5, 26.2, 24.4, 24.8, 29.6,\n",
       "       42.8, 21.9, 20.9, 44. , 50. , 36. , 30.1, 33.8, 43.1, 48.8, 31. ,\n",
       "       36.5, 22.8, 30.7, 50. , 43.5, 20.7, 21.1, 25.2, 24.4, 35.2, 32.4,\n",
       "       32. , 33.2, 33.1, 29.1, 35.1, 45.4, 35.4, 46. , 50. , 32.2, 22. ,\n",
       "       20.1, 23.2, 22.3, 24.8, 28.5, 37.3, 27.9, 23.9, 21.7, 28.6, 27.1,\n",
       "       20.3, 22.5, 29. , 24.8, 22. , 26.4, 33.1, 36.1, 28.4, 33.4, 28.2,\n",
       "       22.8, 20.3, 16.1, 22.1, 19.4, 21.6, 23.8, 16.2, 17.8, 19.8, 23.1,\n",
       "       21. , 23.8, 23.1, 20.4, 18.5, 25. , 24.6, 23. , 22.2, 19.3, 22.6,\n",
       "       19.8, 17.1, 19.4, 22.2, 20.7, 21.1, 19.5, 18.5, 20.6, 19. , 18.7,\n",
       "       32.7, 16.5, 23.9, 31.2, 17.5, 17.2, 23.1, 24.5, 26.6, 22.9, 24.1,\n",
       "       18.6, 30.1, 18.2, 20.6, 17.8, 21.7, 22.7, 22.6, 25. , 19.9, 20.8,\n",
       "       16.8, 21.9, 27.5, 21.9, 23.1, 50. , 50. , 50. , 50. , 50. , 13.8,\n",
       "       13.8, 15. , 13.9, 13.3, 13.1, 10.2, 10.4, 10.9, 11.3, 12.3,  8.8,\n",
       "        7.2, 10.5,  7.4, 10.2, 11.5, 15.1, 23.2,  9.7, 13.8, 12.7, 13.1,\n",
       "       12.5,  8.5,  5. ,  6.3,  5.6,  7.2, 12.1,  8.3,  8.5,  5. , 11.9,\n",
       "       27.9, 17.2, 27.5, 15. , 17.2, 17.9, 16.3,  7. ,  7.2,  7.5, 10.4,\n",
       "        8.8,  8.4, 16.7, 14.2, 20.8, 13.4, 11.7,  8.3, 10.2, 10.9, 11. ,\n",
       "        9.5, 14.5, 14.1, 16.1, 14.3, 11.7, 13.4,  9.6,  8.7,  8.4, 12.8,\n",
       "       10.5, 17.1, 18.4, 15.4, 10.8, 11.8, 14.9, 12.6, 14.1, 13. , 13.4,\n",
       "       15.2, 16.1, 17.8, 14.9, 14.1, 12.7, 13.5, 14.9, 20. , 16.4, 17.7,\n",
       "       19.5, 20.2, 21.4, 19.9, 19. , 19.1, 19.1, 20.1, 19.9, 19.6, 23.2,\n",
       "       29.8, 13.8, 13.3, 16.7, 12. , 14.6, 21.4, 23. , 23.7, 25. , 21.8,\n",
       "       20.6, 21.2, 19.1, 20.6, 15.2,  7. ,  8.1, 13.6, 20.1, 21.8, 24.5,\n",
       "       23.1, 19.7, 18.3, 21.2, 17.5, 16.8, 22.4, 20.6, 23.9, 22. , 11.9])"
      ]
     },
     "execution_count": 139,
     "metadata": {},
     "output_type": "execute_result"
    }
   ],
   "source": [
    "data\n",
    "target"
   ]
  },
  {
   "cell_type": "code",
   "execution_count": 106,
   "metadata": {},
   "outputs": [],
   "source": [
    "# train/test split\n",
    "X_train, X_test, y_train, y_test = train_test_split(data, \n",
    "                                                    target, \n",
    "                                                    shuffle=True,\n",
    "                                                    test_size=0.2, \n",
    "                                                    random_state=15)"
   ]
  },
  {
   "cell_type": "markdown",
   "metadata": {},
   "source": [
    "### Creating Methods for returning Training and Test Error"
   ]
  },
  {
   "cell_type": "code",
   "execution_count": 107,
   "metadata": {},
   "outputs": [],
   "source": [
    "#cALCULATES Training Error\n",
    "def calc_train_error(X_train, y_train, model):\n",
    "    '''returns in-sample error for already fit model.'''\n",
    "    predictions = model.predict(X_train)\n",
    "    mse = mean_squared_error(y_train, predictions)\n",
    "    rmse = np.sqrt(mse)\n",
    "    return mse\n",
    "#CALCULATES Test Error and named it as validation error    \n",
    "def calc_validation_error(X_test, y_test, model):\n",
    "    '''returns out-of-sample error for already fit model.'''\n",
    "    predictions = model.predict(X_test)\n",
    "    mse = mean_squared_error(y_test, predictions)\n",
    "    rmse = np.sqrt(mse)\n",
    "    return mse\n",
    "    \n",
    "#Return test and validation erro\n",
    "def calc_metrics(X_train, y_train, X_test, y_test, model):\n",
    "    '''fits model and returns the RMSE for in-sample error and out-of-sample error'''\n",
    "    model.fit(X_train, y_train)\n",
    "    train_error = calc_train_error(X_train, y_train, model)\n",
    "    validation_error = calc_validation_error(X_test, y_test, model)\n",
    "    return train_error, validation_error"
   ]
  },
  {
   "cell_type": "markdown",
   "metadata": {},
   "source": [
    "### Bias Variance Tradeoff"
   ]
  },
  {
   "cell_type": "markdown",
   "metadata": {},
   "source": [
    "#### Comparing training error not only with test error but with validation error to generalize the model better and avoid overfitting"
   ]
  },
  {
   "cell_type": "markdown",
   "metadata": {},
   "source": [
    "### The model can lie in three regions of bias variance curve\n",
    "#### 1. High Bias - Underfitting\n",
    "#### 2. High Variance - Overfitting\n",
    "#### 3. Goldilocks Region between above 2 - Perfect"
   ]
  },
  {
   "cell_type": "code",
   "execution_count": 108,
   "metadata": {},
   "outputs": [
    {
     "name": "stdout",
     "output_type": "stream",
     "text": [
      "train error: 21.874 | test error: 23.817\n",
      "train/test: 1.1\n"
     ]
    }
   ],
   "source": [
    "lr = LinearRegression(fit_intercept=True)\n",
    "\n",
    "train_error, test_error = calc_metrics(X_train, y_train, X_test, y_test, lr)\n",
    "train_error, test_error = round(train_error, 3), round(test_error, 3)\n",
    "\n",
    "print('train error: {} | test error: {}'.format(train_error, test_error))\n",
    "print('train/test: {}'.format(round(test_error/train_error, 1)))"
   ]
  },
  {
   "cell_type": "code",
   "execution_count": 109,
   "metadata": {},
   "outputs": [],
   "source": [
    "# Train/test is almost 1.1 and we need to achieve train/test = 1 to achieve the low bias and low variance zone which we wouldn't overfit our model"
   ]
  },
  {
   "cell_type": "code",
   "execution_count": 110,
   "metadata": {},
   "outputs": [],
   "source": [
    "# Don't try removing features here as we don't want to tailor our train data based on test data. Never do that!"
   ]
  },
  {
   "cell_type": "markdown",
   "metadata": {},
   "source": [
    "### Things that add complexity to a model are: \n",
    "#### 1. additional features \n",
    "#### 2. increasing polynomial terms\n",
    "#### 3. increasing the depth for tree-based models."
   ]
  },
  {
   "cell_type": "code",
   "execution_count": 111,
   "metadata": {},
   "outputs": [],
   "source": [
    "#Creation of training, validation and test dataset to reach train/test score of 1"
   ]
  },
  {
   "cell_type": "markdown",
   "metadata": {},
   "source": [
    "#### Adding a validation set to understand model performance better and remove overfitting"
   ]
  },
  {
   "cell_type": "code",
   "execution_count": 112,
   "metadata": {},
   "outputs": [],
   "source": [
    "# intermediate/test split (gives us test set)\n",
    "X_intermediate, X_test, y_intermediate, y_test = train_test_split(data, \n",
    "                                                                  target, \n",
    "                                                                  shuffle=True,\n",
    "                                                                  test_size=0.2, \n",
    "                                                                  random_state=15)\n",
    "\n",
    "X_train, X_validation, y_train, y_validation = train_test_split(X_intermediate,\n",
    "                                                                y_intermediate,\n",
    "                                                                shuffle=False,\n",
    "                                                                test_size=0.25,\n",
    "                                                                random_state=2018)"
   ]
  },
  {
   "cell_type": "code",
   "execution_count": 113,
   "metadata": {},
   "outputs": [
    {
     "name": "stdout",
     "output_type": "stream",
     "text": [
      "train: 0.6% | validation: 0.2% | test 0.2%\n"
     ]
    }
   ],
   "source": [
    "# delete intermediate variables\n",
    "del X_intermediate, y_intermediate\n",
    "\n",
    "# print proportions\n",
    "print('train: {}% | validation: {}% | test {}%'.format(round(len(y_train)/len(target),2),\n",
    "                                                       round(len(y_validation)/len(target),2),\n",
    "                                                       round(len(y_test)/len(target),2)))"
   ]
  },
  {
   "cell_type": "markdown",
   "metadata": {},
   "source": [
    "### Decreasing model Complexity by Model Tuning"
   ]
  },
  {
   "cell_type": "markdown",
   "metadata": {},
   "source": [
    "#### Adding Regularization to reduce complexity in a high variance model and add bias to it, that means adding weights to the features to understand their importance while predicting results, this means of adding weights is called regularization and is achieved by adding a variable called alpha or lambda which optimizes our model on certain values"
   ]
  },
  {
   "cell_type": "code",
   "execution_count": 114,
   "metadata": {},
   "outputs": [],
   "source": [
    "alpha_values = [0.001, 0.01, 0.1, 1, 10, 100, 1000]"
   ]
  },
  {
   "cell_type": "code",
   "execution_count": 115,
   "metadata": {},
   "outputs": [
    {
     "name": "stdout",
     "output_type": "stream",
     "text": [
      "RMSE Errors\n"
     ]
    }
   ],
   "source": [
    "print('RMSE Errors')"
   ]
  },
  {
   "cell_type": "markdown",
   "metadata": {},
   "source": [
    "### Adding L2 type regularization or Ridge Regularization while fitting our model, L2 type Regularization considers all the features and give them weights based on their importance"
   ]
  },
  {
   "cell_type": "code",
   "execution_count": 116,
   "metadata": {},
   "outputs": [
    {
     "name": "stdout",
     "output_type": "stream",
     "text": [
      "alpha: 0.001 | train error: 22.93 | validation error: 19.796 | test error: 23.959\n",
      "alpha:  0.01 | train error: 22.93 | validation error: 19.792 | test error: 23.944\n",
      "alpha:   0.1 | train error: 22.945 | validation error: 19.779 | test error: 23.818\n",
      "alpha:     1 | train error: 23.324 | validation error: 20.135 | test error: 23.522\n",
      "alpha:    10 | train error: 24.214 | validation error: 20.958 | test error: 23.356\n",
      "alpha:   100 | train error: 26.108 | validation error: 21.171 | test error: 24.182\n",
      "alpha:  1000 | train error: 31.311 | validation error: 23.303 | test error: 27.419\n"
     ]
    }
   ],
   "source": [
    "from sklearn.linear_model import Ridge\n",
    "for alpha in alpha_values:\n",
    "    # instantiate and fit model\n",
    "    ridge = Ridge(alpha=alpha, fit_intercept=True, random_state=99)\n",
    "    ridge.fit(X_train, y_train)\n",
    "    new_train_error = mean_squared_error(y_train, ridge.predict(X_train))\n",
    "    new_validation_error = mean_squared_error(y_validation, ridge.predict(X_validation))\n",
    "    new_test_error = mean_squared_error(y_test, ridge.predict(X_test))\n",
    "    # print errors as report\n",
    "    print('alpha: {:5} | train error: {:5} | validation error: {:6} | test error: {}'.\n",
    "          format(alpha,\n",
    "                 round(new_train_error,3),\n",
    "                 round(new_validation_error,3),\n",
    "                 round(new_test_error,3)))"
   ]
  },
  {
   "cell_type": "code",
   "execution_count": 117,
   "metadata": {},
   "outputs": [],
   "source": [
    "#Calculating errors after adding ridge regularization"
   ]
  },
  {
   "cell_type": "code",
   "execution_count": 118,
   "metadata": {},
   "outputs": [],
   "source": [
    "#Tune our Model with best alpha and see errors in test"
   ]
  },
  {
   "cell_type": "code",
   "execution_count": 119,
   "metadata": {},
   "outputs": [],
   "source": [
    "# train/test split\n",
    "X_train, X_test, y_train, y_test = train_test_split(data, \n",
    "                                                    target, \n",
    "                                                    shuffle=True,\n",
    "                                                    test_size=0.2, \n",
    "                                                    random_state=15)\n"
   ]
  },
  {
   "cell_type": "code",
   "execution_count": 120,
   "metadata": {},
   "outputs": [],
   "source": [
    "# instantiate model\n",
    "ridge = Ridge(alpha=0.11, fit_intercept=True, random_state=99)"
   ]
  },
  {
   "cell_type": "code",
   "execution_count": 121,
   "metadata": {},
   "outputs": [],
   "source": [
    "# fit and calculate errors\n",
    "new_train_error, new_test_error = calc_metrics(X_train, y_train, X_test, y_test, ridge)\n",
    "new_train_error, new_test_error = round(new_train_error, 3), round(new_test_error, 3)"
   ]
  },
  {
   "cell_type": "code",
   "execution_count": 122,
   "metadata": {},
   "outputs": [
    {
     "name": "stdout",
     "output_type": "stream",
     "text": [
      "ORIGINAL ERROR\n",
      "--------------------------------------------------\n",
      "train error: 21.874 | test error: 23.817\n",
      "\n",
      "ERROR with REGULARIZATION\n",
      "--------------------------------------------------\n",
      "train error: 21.883 | test error: 23.673\n"
     ]
    }
   ],
   "source": [
    "print('ORIGINAL ERROR')\n",
    "print('-' * 50)\n",
    "print('train error: {} | test error: {}\\n'.format(train_error, test_error))\n",
    "print('ERROR with REGULARIZATION')\n",
    "print('-' * 50)\n",
    "print('train error: {} | test error: {}'.format(new_train_error, new_test_error))"
   ]
  },
  {
   "cell_type": "code",
   "execution_count": 123,
   "metadata": {},
   "outputs": [],
   "source": [
    "#Difference between Training Error and Testing Error decreases by adding Ridge Regularization"
   ]
  },
  {
   "cell_type": "markdown",
   "metadata": {},
   "source": [
    "### To further decrease the test error and improve generalization performance, we can introduce Cross Validation"
   ]
  },
  {
   "cell_type": "markdown",
   "metadata": {},
   "source": [
    "#### In cross validation, instead of having one round of training and validation set, we can have multiple rounds of dividing dataset into training and validation set by fixing value of a constant K. It is called K-Fold Cross Validation. This technique is usually done for small-medium size datasets. As Dataset becomes large, value of K is decrease usually"
   ]
  },
  {
   "cell_type": "code",
   "execution_count": 124,
   "metadata": {},
   "outputs": [],
   "source": [
    "#If K is taken 3, then RMSE of validation set is calculated for all the 3 values of k and ultimately we take average of all\n",
    "#the three RMSE to get our final accuracy"
   ]
  },
  {
   "cell_type": "markdown",
   "metadata": {},
   "source": [
    "### Cross validation first way - Cross Value Score \n",
    "### Cross Validation second way - K-Folds\n",
    "#### Regularization way used now - LASSO (L1 type Regularization)"
   ]
  },
  {
   "cell_type": "code",
   "execution_count": 125,
   "metadata": {},
   "outputs": [],
   "source": [
    "#Calculating cross validation score"
   ]
  },
  {
   "cell_type": "code",
   "execution_count": 126,
   "metadata": {},
   "outputs": [],
   "source": [
    "from sklearn.model_selection import cross_val_score\n",
    "from sklearn.linear_model import Lasso\n",
    "alphas = [0.0001, 0.001, 0.01, 0.1, 1, 10,100]\n",
    "\n",
    "val_errors = []\n",
    "for alpha in alphas:\n",
    "    lasso = Lasso(alpha=alpha, fit_intercept=True, random_state=99)\n",
    "    errors = np.sum(-cross_val_score(lasso, \n",
    "                                     data, \n",
    "                                     y=target, \n",
    "                                     scoring='neg_mean_squared_error', \n",
    "                                     cv=10, \n",
    "                                     n_jobs=-1))\n",
    "    val_errors.append(np.sqrt(errors))"
   ]
  },
  {
   "cell_type": "code",
   "execution_count": 127,
   "metadata": {},
   "outputs": [
    {
     "name": "stdout",
     "output_type": "stream",
     "text": [
      "[18.644013799818683, 18.636528438323772, 18.57805747159656, 18.503285318281634, 18.56558613074231, 21.412874355105995, 26.94578828222471]\n"
     ]
    }
   ],
   "source": [
    "# RMSE\n",
    "print(val_errors)"
   ]
  },
  {
   "cell_type": "markdown",
   "metadata": {},
   "source": [
    "### Finding best alpha value which gives lowerst validation error"
   ]
  },
  {
   "cell_type": "code",
   "execution_count": 128,
   "metadata": {},
   "outputs": [
    {
     "name": "stdout",
     "output_type": "stream",
     "text": [
      "best alpha: 0.1\n"
     ]
    }
   ],
   "source": [
    "print('best alpha: {}'.format(alphas[np.argmin(val_errors)]))"
   ]
  },
  {
   "cell_type": "markdown",
   "metadata": {},
   "source": [
    "### Using K-Fold validation instead of Cross_Value way"
   ]
  },
  {
   "cell_type": "code",
   "execution_count": 129,
   "metadata": {},
   "outputs": [
    {
     "name": "stdout",
     "output_type": "stream",
     "text": [
      "alpha: 0.0001 | mean(train_error): 21.8217 | mean(val_error): 23.3633\n",
      "alpha:  0.001 | mean(train_error): 21.8221 | mean(val_error): 23.3647\n",
      "alpha:   0.01 | mean(train_error): 21.8583 | mean(val_error): 23.4126\n",
      "alpha:    0.1 | mean(train_error): 22.9727 | mean(val_error): 24.6014\n",
      "alpha:      1 | mean(train_error): 26.7371 | mean(val_error): 28.236\n",
      "alpha:     10 | mean(train_error):  40.183 | mean(val_error): 40.9859\n",
      "alpha:    100 | mean(train_error): 65.4025 | mean(val_error): 66.0194\n"
     ]
    }
   ],
   "source": [
    "from sklearn.model_selection import KFold\n",
    "\n",
    "K = 10\n",
    "kf = KFold(n_splits=K, shuffle=True, random_state=42)\n",
    "\n",
    "for alpha in alphas:\n",
    "    train_errors = []\n",
    "    validation_errors = []\n",
    "    for train_index, val_index in kf.split(data, target):\n",
    "        \n",
    "     \n",
    "         # split data\n",
    "        X_train1, X_val1 = data[train_index], data[val_index]\n",
    "        y_train1, y_val1 = target[train_index], target[val_index]\n",
    "\n",
    "        # instantiate model\n",
    "        lasso = Lasso(alpha=alpha, fit_intercept=True, random_state=77)\n",
    "        \n",
    "        #calculate errors\n",
    "        train_error1, val_error1 = calc_metrics(X_train1, y_train1, X_val1, y_val1, lasso)\n",
    "        \n",
    "        # append to appropriate list\n",
    "        train_errors.append(train_error1)\n",
    "        validation_errors.append(val_error1)\n",
    "    \n",
    "    # generate report\n",
    "    print('alpha: {:6} | mean(train_error): {:7} | mean(val_error): {}'.\n",
    "          format(alpha,\n",
    "                 round(np.mean(train_errors),4),\n",
    "                 round(np.mean(validation_errors),4)))"
   ]
  },
  {
   "cell_type": "markdown",
   "metadata": {},
   "source": [
    "### Here training was more as compared to Cross Value Score and for alpha 10 here, we got train error of 41 and for 100, 66.4025, too high"
   ]
  },
  {
   "cell_type": "markdown",
   "metadata": {},
   "source": [
    "### I will test my model with Lasso Regularization and Cross value Score considering alpha as 0.1 where validation error was lowest and let us see how it behaves"
   ]
  },
  {
   "cell_type": "code",
   "execution_count": 130,
   "metadata": {},
   "outputs": [],
   "source": [
    "#instantiating model"
   ]
  },
  {
   "cell_type": "code",
   "execution_count": 131,
   "metadata": {},
   "outputs": [],
   "source": [
    "lasso = Lasso(alpha=0.1, fit_intercept=True, random_state=99)"
   ]
  },
  {
   "cell_type": "code",
   "execution_count": 133,
   "metadata": {},
   "outputs": [],
   "source": [
    "# fit and calculate errors\n",
    "new_train_error1, new_test_error1 = calc_metrics(X_train1, y_train1, X_test, y_test, lasso)\n",
    "new_train_error1, new_test_error1 = round(new_train_error1, 3), round(new_test_error1, 3)"
   ]
  },
  {
   "cell_type": "code",
   "execution_count": 147,
   "metadata": {},
   "outputs": [
    {
     "name": "stdout",
     "output_type": "stream",
     "text": [
      "ORIGINAL ERROR\n",
      "--------------------------------------------------\n",
      "train error: 21.874 | test error: 23.817\n",
      "\n",
      "ERROR with RIDGE REGULARIZATION\n",
      "--------------------------------------------------\n",
      "train error: 21.883 | test error: 23.673\n",
      "\n",
      "ERROR with LASSO REGULARIZATION\n",
      "--------------------------------------------------\n",
      "train error: 22.591 | test error: 19.975\n"
     ]
    }
   ],
   "source": [
    "print('ORIGINAL ERROR')\n",
    "print('-' * 50)\n",
    "print('train error: {} | test error: {}\\n'.format(train_error, test_error))\n",
    "print('ERROR with RIDGE REGULARIZATION')\n",
    "print('-' * 50)\n",
    "print('train error: {} | test error: {}\\n'.format(new_train_error, new_test_error))\n",
    "print('ERROR with LASSO REGULARIZATION')\n",
    "print('-' * 50)\n",
    "print('train error: {} | test error: {}'.format(new_train_error1, new_test_error1))"
   ]
  },
  {
   "cell_type": "code",
   "execution_count": 148,
   "metadata": {},
   "outputs": [],
   "source": [
    "#Train to Test Score seems awesome for the Lasso Regularization and Cross Value Score Validation"
   ]
  },
  {
   "cell_type": "code",
   "execution_count": 149,
   "metadata": {},
   "outputs": [
    {
     "data": {
      "text/plain": [
       "0.9"
      ]
     },
     "execution_count": 149,
     "metadata": {},
     "output_type": "execute_result"
    }
   ],
   "source": [
    "round(new_test_error1/new_train_error1, ndigits=1)"
   ]
  },
  {
   "cell_type": "markdown",
   "metadata": {},
   "source": [
    "### Woah \"from 1.1 to 0.9\" , great work!"
   ]
  },
  {
   "cell_type": "code",
   "execution_count": null,
   "metadata": {},
   "outputs": [],
   "source": []
  }
 ],
 "metadata": {
  "kernelspec": {
   "display_name": "Python 3",
   "language": "python",
   "name": "python3"
  },
  "language_info": {
   "codemirror_mode": {
    "name": "ipython",
    "version": 3
   },
   "file_extension": ".py",
   "mimetype": "text/x-python",
   "name": "python",
   "nbconvert_exporter": "python",
   "pygments_lexer": "ipython3",
   "version": "3.6.3"
  }
 },
 "nbformat": 4,
 "nbformat_minor": 2
}
